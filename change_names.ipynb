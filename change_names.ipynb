{
 "cells": [
  {
   "cell_type": "code",
   "execution_count": 1,
   "metadata": {},
   "outputs": [
    {
     "ename": "SyntaxError",
     "evalue": "expected ':' (263284462.py, line 4)",
     "output_type": "error",
     "traceback": [
      "\u001b[1;36m  Cell \u001b[1;32mIn [1], line 4\u001b[1;36m\u001b[0m\n\u001b[1;33m    if any(string in nom for string in []).replace(' ', '_')\u001b[0m\n\u001b[1;37m                                                            ^\u001b[0m\n\u001b[1;31mSyntaxError\u001b[0m\u001b[1;31m:\u001b[0m expected ':'\n"
     ]
    }
   ],
   "source": [
    "import os\n",
    "\n",
    "def remplacer_nom(nom):\n",
    "    if any(string in nom for string in [\"Loi\", \"Decret\", \"Arrete\", \"Décret\", \"Arrêté\"]):\n",
    "        \n",
    "        return nom.replace(\"Loi\", \"Law\").replace(\"Decret\", \"Decree\").replace(\"Arrete\", \"Order\").replace(\"Décret\", \"Decree\").replace(\"Arrêté\", \"Order\")\n",
    "    \n",
    "    elif any(string in nom for string in [\"loi\", \"Decret\", \"Arrete\"])\n",
    "\n",
    "def renommer_repertoires(chemin_base):\n",
    "    # Collecter tous les répertoires (en profondeur d'abord)\n",
    "    repertoires = []\n",
    "    for root, dirs, files in os.walk(chemin_base):\n",
    "        for nom in dirs:\n",
    "            chemin_complet = os.path.join(root, nom)\n",
    "            repertoires.append(chemin_complet)\n",
    "    \n",
    "    # Trier par profondeur décroissante (fichiers enfants d'abord)\n",
    "    repertoires.sort(key=lambda x: x.count(os.sep), reverse=True)\n",
    "\n",
    "    # Renommer chaque répertoire\n",
    "    for ancien_chemin in repertoires:\n",
    "        dossier_parent = os.path.dirname(ancien_chemin)\n",
    "        ancien_nom = os.path.basename(ancien_chemin)\n",
    "        nouveau_nom = remplacer_nom(ancien_nom)\n",
    "        nouveau_chemin = os.path.join(dossier_parent, nouveau_nom)\n",
    "        \n",
    "        os.rename(ancien_chemin, nouveau_chemin)\n",
    "        print(f\"Renommé : {ancien_chemin} → {nouveau_chemin}\")\n",
    "\n",
    "# Utilisation\n",
    "chemin_depart = '/chemin/vers/votre/repertoire'\n",
    "renommer_repertoires(chemin_depart)\n"
   ]
  },
  {
   "cell_type": "code",
   "execution_count": null,
   "metadata": {},
   "outputs": [],
   "source": []
  }
 ],
 "metadata": {
  "kernelspec": {
   "display_name": "Python 3",
   "language": "python",
   "name": "python3"
  },
  "language_info": {
   "codemirror_mode": {
    "name": "ipython",
    "version": 3
   },
   "file_extension": ".py",
   "mimetype": "text/x-python",
   "name": "python",
   "nbconvert_exporter": "python",
   "pygments_lexer": "ipython3",
   "version": "3.10.8"
  },
  "orig_nbformat": 4
 },
 "nbformat": 4,
 "nbformat_minor": 2
}
